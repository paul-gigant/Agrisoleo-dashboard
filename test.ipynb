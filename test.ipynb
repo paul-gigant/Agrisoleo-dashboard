{
 "cells": [
  {
   "cell_type": "code",
   "execution_count": 3,
   "metadata": {},
   "outputs": [],
   "source": [
    "import pandas as pd\n",
    "from analyse_v9 import read_excel\n",
    "from xlsx2csv import Xlsx2csv\n",
    "Xlsx2csv(\"test.xlsx\",outputencoding=\"utf-8\", ).convert(\"myfile.csv\")\n"
   ]
  },
  {
   "cell_type": "code",
   "execution_count": null,
   "metadata": {},
   "outputs": [],
   "source": []
  }
 ],
 "metadata": {
  "kernelspec": {
   "display_name": "venv",
   "language": "python",
   "name": "python3"
  },
  "language_info": {
   "codemirror_mode": {
    "name": "ipython",
    "version": 3
   },
   "file_extension": ".py",
   "mimetype": "text/x-python",
   "name": "python",
   "nbconvert_exporter": "python",
   "pygments_lexer": "ipython3",
   "version": "3.10.6"
  },
  "orig_nbformat": 4,
  "vscode": {
   "interpreter": {
    "hash": "783869c43533509f3221d183fd4d4cfbf96e559689791f550f263794d05877f8"
   }
  }
 },
 "nbformat": 4,
 "nbformat_minor": 2
}
